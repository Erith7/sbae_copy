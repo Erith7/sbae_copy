{
 "cells": [
  {
   "cell_type": "markdown",
   "id": "9f1f9d9a-8a0d-4d85-b134-f0bda3727152",
   "metadata": {},
   "source": [
    "### 1 - Import libs\n",
    "\n",
    "**Execute only**"
   ]
  },
  {
   "cell_type": "code",
   "execution_count": 1,
   "id": "a75e78de-8687-4632-8586-9ca964b31045",
   "metadata": {},
   "outputs": [
    {
     "data": {
      "application/vnd.jupyter.widget-view+json": {
       "model_id": "b4772776fde64cf3a8a0f667bbf11046",
       "version_major": 2,
       "version_minor": 0
      },
      "text/plain": [
       "Styles()"
      ]
     },
     "metadata": {},
     "output_type": "display_data"
    },
    {
     "name": "stderr",
     "output_type": "stream",
     "text": [
      "/usr/local/lib/python3.8/dist-packages/bfast/__init__.py:10: UserWarning: cupy is not available in this environment, GPU fonctionnalities won't be available\n",
      "  warn(\"cupy is not available in this environment, GPU fonctionnalities won't be available\")\n"
     ]
    }
   ],
   "source": [
    "import time\n",
    "from datetime import datetime as dt\n",
    "\n",
    "import ee\n",
    "from sepal_ui.mapping import SepalMap\n",
    "\n",
    "# initialize EE    \n",
    "try:\n",
    "    ee.Initialize(opt_url='https://earthengine-highvolume.googleapis.com')\n",
    "except:\n",
    "    ee.Authenticate()\n",
    "    ee.Initialize(opt_url='https://earthengine-highvolume.googleapis.com')\n",
    "\n",
    "import helpers as h"
   ]
  },
  {
   "cell_type": "markdown",
   "id": "23c04e79-5bfe-48d9-8412-c17707d7c5e9",
   "metadata": {},
   "source": [
    "### 2 - Basic Input Variables\n",
    "\n",
    "**DEFINE YOUR INPUT VARIABLES**"
   ]
  },
  {
   "cell_type": "code",
   "execution_count": 10,
   "id": "8cc66ee9-1ed4-4f96-b776-8cd14d2d2a9c",
   "metadata": {},
   "outputs": [],
   "source": [
    "# Area of Interest\n",
    "#country = 'Kenya'   # country case\n",
    "#aoi = ee.FeatureCollection(\"FAO/GAUL/2015/level1\").filter(ee.Filter.eq('ADM0_NAME', country)) # here any feature collection can be selected\n",
    "aoi = ee.FeatureCollection(\"users/Erith7/Sucumbios\")\n",
    "# Grid Size (in degrees)\n",
    "grid_size = 0.01\n",
    "\n",
    "# define an output file name for CEO \n",
    "# don't forget the .csv extention\n",
    "# IF NOT DEFINED; will go into module_results\n",
    " #outfile = \"sbae.csv\""
   ]
  },
  {
   "cell_type": "markdown",
   "id": "38426a5b-6394-4542-92e5-fe647ac0d69a",
   "metadata": {},
   "source": [
    "### 3 - Generate GRID and POINTS\n",
    "\n",
    "**Execute only**"
   ]
  },
  {
   "cell_type": "code",
   "execution_count": 11,
   "id": "6c6be7b2-33d0-4fd3-b856-e9d79d2cc75f",
   "metadata": {
    "tags": []
   },
   "outputs": [],
   "source": [
    "# Generate the grid\n",
    "grid, grid_fc = h.generate_grid(aoi, grid_size, grid_size, 0, 0)\n",
    "\n",
    "# get a random point over each grid cell\n",
    "randomInCell = grid_fc.map(h.get_random_point).filterBounds(aoi)\n",
    "\n",
    "# get the centroid of each gridcell\n",
    "centerInCell = grid_fc.map(h.get_center_point).filterBounds(aoi)\n",
    "\n",
    "# stratified sampling based on ESA LC\n",
    "imageCollection = ee.ImageCollection(\"ESA/WorldCover/v100\")\n",
    "esaLc = imageCollection.filterBounds(aoi).first().clip(aoi)\n",
    "\n",
    "stratifiedSamples = esaLc.stratifiedSample(**{\n",
    "    \"numPoints\": 1000,\n",
    "    \"region\": aoi,\n",
    "    \"scale\": 100, \n",
    "    \"seed\": 42, \n",
    "    \"tileScale\": 4, \n",
    "    \"geometries\": True\n",
    "}).map(h.set_id)"
   ]
  },
  {
   "cell_type": "markdown",
   "id": "688c2ded-544e-43fe-ad12-6f01be75ccad",
   "metadata": {},
   "source": [
    "### 4 - Display in map\n",
    "\n",
    "**Execute only**"
   ]
  },
  {
   "cell_type": "code",
   "execution_count": 13,
   "id": "3ba8c094-dc7c-4020-967f-b12031403966",
   "metadata": {
    "tags": []
   },
   "outputs": [
    {
     "data": {
      "application/vnd.jupyter.widget-view+json": {
       "model_id": "b0424a46359a4c9eb4800dfce2b3b5fb",
       "version_major": 2,
       "version_minor": 0
      },
      "text/plain": [
       "SepalMap(center=[-0.041799613075468256, -77.15800826163783], controls=(ZoomControl(options=['position', 'zoom_…"
      ]
     },
     "metadata": {},
     "output_type": "display_data"
    }
   ],
   "source": [
    "# intialize Map\n",
    "Map = SepalMap(['HYBRID'])\n",
    "Map.zoom_ee_object(aoi.geometry())\n",
    "\n",
    "# add layers\n",
    "Map.addLayer(ee.Image().byte().paint(featureCollection=aoi,color=1,width=3), {\"palette\": \"blue\"}, 'Area of interest')\n",
    "Map.addLayer(esaLc, False, 'ESA Worldcover 2020')\n",
    "Map.addLayer(stratifiedSamples.draw(color=\"black\", pointRadius=2), {}, 'Stratified Samples per class from ESA LC')\n",
    "Map.addLayer(ee.Image().byte().paint(featureCollection=grid,color=1,width=3), {\"palette\": \"black\"}, 'Grid')\n",
    "Map.addLayer(centerInCell.draw(color=\"white\", pointRadius=2), {}, '1 Center Sample per gridcell (Systematic)')\n",
    "Map.addLayer(randomInCell.draw(color=\"purple\", pointRadius=2), {}, '1 Random Sample per gridcell (Systematic random)')\n",
    "#\n",
    "Map"
   ]
  },
  {
   "cell_type": "markdown",
   "id": "bfe76c73-bd41-4f0c-8ae5-153a7d020912",
   "metadata": {},
   "source": [
    "### 5 - Add auxillary data from global datasets\n",
    "\n",
    "**Execute only**"
   ]
  },
  {
   "cell_type": "code",
   "execution_count": 9,
   "id": "8d77ca0d-0685-48d0-84ca-82e719b33615",
   "metadata": {},
   "outputs": [
    {
     "data": {
      "text/html": [
       "<div>\n",
       "<style scoped>\n",
       "    .dataframe tbody tr th:only-of-type {\n",
       "        vertical-align: middle;\n",
       "    }\n",
       "\n",
       "    .dataframe tbody tr th {\n",
       "        vertical-align: top;\n",
       "    }\n",
       "\n",
       "    .dataframe thead th {\n",
       "        text-align: right;\n",
       "    }\n",
       "</style>\n",
       "<table border=\"1\" class=\"dataframe\">\n",
       "  <thead>\n",
       "    <tr style=\"text-align: right;\">\n",
       "      <th></th>\n",
       "      <th>LON</th>\n",
       "      <th>LAT</th>\n",
       "      <th>PLOTID</th>\n",
       "      <th>geometry</th>\n",
       "      <th>esa_lc20</th>\n",
       "      <th>gfc_gain</th>\n",
       "      <th>gfc_loss</th>\n",
       "      <th>gfc_tc00</th>\n",
       "      <th>gfc_year</th>\n",
       "      <th>point_id</th>\n",
       "      <th>...</th>\n",
       "      <th>tmf_1995</th>\n",
       "      <th>tmf_2000</th>\n",
       "      <th>tmf_2005</th>\n",
       "      <th>tmf_2010</th>\n",
       "      <th>tmf_2015</th>\n",
       "      <th>tmf_2020</th>\n",
       "      <th>tmf_def_yr</th>\n",
       "      <th>tmf_deg_yr</th>\n",
       "      <th>tmf_main_cl</th>\n",
       "      <th>tmf_subtypes</th>\n",
       "    </tr>\n",
       "  </thead>\n",
       "  <tbody>\n",
       "    <tr>\n",
       "      <th>0</th>\n",
       "      <td>-77.214998</td>\n",
       "      <td>-0.080188</td>\n",
       "      <td>220</td>\n",
       "      <td>POINT (-77.21500 -0.08019)</td>\n",
       "      <td>10</td>\n",
       "      <td>0</td>\n",
       "      <td>0</td>\n",
       "      <td>98</td>\n",
       "      <td>None</td>\n",
       "      <td>220</td>\n",
       "      <td>...</td>\n",
       "      <td>1</td>\n",
       "      <td>1</td>\n",
       "      <td>2</td>\n",
       "      <td>2</td>\n",
       "      <td>2</td>\n",
       "      <td>2</td>\n",
       "      <td>0</td>\n",
       "      <td>2001</td>\n",
       "      <td>20</td>\n",
       "      <td>26</td>\n",
       "    </tr>\n",
       "    <tr>\n",
       "      <th>1</th>\n",
       "      <td>-77.214998</td>\n",
       "      <td>0.019812</td>\n",
       "      <td>221</td>\n",
       "      <td>POINT (-77.21500 0.01981)</td>\n",
       "      <td>10</td>\n",
       "      <td>0</td>\n",
       "      <td>0</td>\n",
       "      <td>99</td>\n",
       "      <td>None</td>\n",
       "      <td>221</td>\n",
       "      <td>...</td>\n",
       "      <td>1</td>\n",
       "      <td>1</td>\n",
       "      <td>1</td>\n",
       "      <td>1</td>\n",
       "      <td>1</td>\n",
       "      <td>2</td>\n",
       "      <td>0</td>\n",
       "      <td>2016</td>\n",
       "      <td>20</td>\n",
       "      <td>22</td>\n",
       "    </tr>\n",
       "    <tr>\n",
       "      <th>2</th>\n",
       "      <td>-77.114998</td>\n",
       "      <td>-0.080188</td>\n",
       "      <td>241</td>\n",
       "      <td>POINT (-77.11500 -0.08019)</td>\n",
       "      <td>10</td>\n",
       "      <td>0</td>\n",
       "      <td>0</td>\n",
       "      <td>100</td>\n",
       "      <td>None</td>\n",
       "      <td>241</td>\n",
       "      <td>...</td>\n",
       "      <td>1</td>\n",
       "      <td>1</td>\n",
       "      <td>1</td>\n",
       "      <td>1</td>\n",
       "      <td>1</td>\n",
       "      <td>1</td>\n",
       "      <td>0</td>\n",
       "      <td>0</td>\n",
       "      <td>10</td>\n",
       "      <td>10</td>\n",
       "    </tr>\n",
       "    <tr>\n",
       "      <th>3</th>\n",
       "      <td>-77.114998</td>\n",
       "      <td>0.019812</td>\n",
       "      <td>242</td>\n",
       "      <td>POINT (-77.11500 0.01981)</td>\n",
       "      <td>10</td>\n",
       "      <td>0</td>\n",
       "      <td>0</td>\n",
       "      <td>97</td>\n",
       "      <td>None</td>\n",
       "      <td>242</td>\n",
       "      <td>...</td>\n",
       "      <td>1</td>\n",
       "      <td>1</td>\n",
       "      <td>1</td>\n",
       "      <td>1</td>\n",
       "      <td>1</td>\n",
       "      <td>1</td>\n",
       "      <td>0</td>\n",
       "      <td>0</td>\n",
       "      <td>10</td>\n",
       "      <td>10</td>\n",
       "    </tr>\n",
       "  </tbody>\n",
       "</table>\n",
       "<p>4 rows × 21 columns</p>\n",
       "</div>"
      ],
      "text/plain": [
       "         LON       LAT PLOTID                    geometry  esa_lc20  gfc_gain  \\\n",
       "0 -77.214998 -0.080188    220  POINT (-77.21500 -0.08019)        10         0   \n",
       "1 -77.214998  0.019812    221   POINT (-77.21500 0.01981)        10         0   \n",
       "2 -77.114998 -0.080188    241  POINT (-77.11500 -0.08019)        10         0   \n",
       "3 -77.114998  0.019812    242   POINT (-77.11500 0.01981)        10         0   \n",
       "\n",
       "   gfc_loss  gfc_tc00 gfc_year point_id  ...  tmf_1995  tmf_2000  tmf_2005  \\\n",
       "0         0        98     None      220  ...         1         1         2   \n",
       "1         0        99     None      221  ...         1         1         1   \n",
       "2         0       100     None      241  ...         1         1         1   \n",
       "3         0        97     None      242  ...         1         1         1   \n",
       "\n",
       "   tmf_2010  tmf_2015  tmf_2020  tmf_def_yr  tmf_deg_yr  tmf_main_cl  \\\n",
       "0         2         2         2           0        2001           20   \n",
       "1         1         1         2           0        2016           20   \n",
       "2         1         1         1           0           0           10   \n",
       "3         1         1         1           0           0           10   \n",
       "\n",
       "   tmf_subtypes  \n",
       "0            26  \n",
       "1            22  \n",
       "2            10  \n",
       "3            10  \n",
       "\n",
       "[4 rows x 21 columns]"
      ]
     },
     "execution_count": 9,
     "metadata": {},
     "output_type": "execute_result"
    }
   ],
   "source": [
    "point_id = 'point_id'\n",
    "point_with_global_products = h.sample_global_products(centerInCell, point_id)\n",
    "point_with_global_products"
   ]
  },
  {
   "cell_type": "code",
   "execution_count": null,
   "id": "d1ed6f00-517b-490d-a1b6-3632f2eb6262",
   "metadata": {},
   "outputs": [],
   "source": []
  }
 ],
 "metadata": {
  "kernelspec": {
   "display_name": "Python 3",
   "language": "python",
   "name": "python3"
  },
  "language_info": {
   "codemirror_mode": {
    "name": "ipython",
    "version": 3
   },
   "file_extension": ".py",
   "mimetype": "text/x-python",
   "name": "python",
   "nbconvert_exporter": "python",
   "pygments_lexer": "ipython3",
   "version": "3.8.10"
  }
 },
 "nbformat": 4,
 "nbformat_minor": 5
}
