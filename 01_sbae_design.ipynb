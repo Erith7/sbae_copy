{
 "cells": [
  {
   "cell_type": "markdown",
   "id": "9f1f9d9a-8a0d-4d85-b134-f0bda3727152",
   "metadata": {},
   "source": [
    "### 1 - Import libs\n",
    "\n",
    "**Execute only**"
   ]
  },
  {
   "cell_type": "code",
   "execution_count": null,
   "id": "a75e78de-8687-4632-8586-9ca964b31045",
   "metadata": {},
   "outputs": [],
   "source": [
    "import time\n",
    "from datetime import datetime as dt\n",
    "\n",
    "import ee\n",
    "from sepal_ui.mapping import SepalMap\n",
    "\n",
    "# initialize EE    \n",
    "try:\n",
    "    ee.Initialize(opt_url='https://earthengine-highvolume.googleapis.com')\n",
    "except:\n",
    "    ee.Authenticate()\n",
    "    ee.Initialize(opt_url='https://earthengine-highvolume.googleapis.com')\n",
    "\n",
    "import helpers as h"
   ]
  },
  {
   "cell_type": "markdown",
   "id": "23c04e79-5bfe-48d9-8412-c17707d7c5e9",
   "metadata": {},
   "source": [
    "### 2 - Basic Input Variables\n",
    "\n",
    "**DEFINE YOUR INPUT VARIABLES**"
   ]
  },
  {
   "cell_type": "code",
   "execution_count": null,
   "id": "8cc66ee9-1ed4-4f96-b776-8cd14d2d2a9c",
   "metadata": {},
   "outputs": [],
   "source": [
    "# Area of Interest\n",
    "country = 'Kenya'   # country case\n",
    "aoi = ee.FeatureCollection(\"FAO/GAUL/2015/level1\").filter(ee.Filter.eq('ADM0_NAME', country)) # here any feature collection can be selected\n",
    "\n",
    "# Grid Size (in degrees)\n",
    "grid_size = 1\n",
    "\n",
    "# define an output file name for CEO \n",
    "# don't forget the .csv extention\n",
    "# IF NOT DEFINED; will go into module_results\n",
    "# outfile = \"sbae.csv\""
   ]
  },
  {
   "cell_type": "markdown",
   "id": "38426a5b-6394-4542-92e5-fe647ac0d69a",
   "metadata": {},
   "source": [
    "### 3 - Generate GRID and POINTS\n",
    "\n",
    "**Execute only**"
   ]
  },
  {
   "cell_type": "code",
   "execution_count": null,
   "id": "6c6be7b2-33d0-4fd3-b856-e9d79d2cc75f",
   "metadata": {
    "tags": []
   },
   "outputs": [],
   "source": [
    "# Generate the grid\n",
    "grid, grid_fc = h.generate_grid(aoi, grid_size, grid_size, 0, 0)\n",
    "\n",
    "# get a random point over each grid cell\n",
    "randomInCell = grid_fc.map(h.get_random_point).filterBounds(aoi)\n",
    "\n",
    "# get the centroid of each gridcell\n",
    "centerInCell = grid_fc.map(h.get_center_point).filterBounds(aoi)\n",
    "\n",
    "# stratified sampling based on ESA LC\n",
    "imageCollection = ee.ImageCollection(\"ESA/WorldCover/v100\")\n",
    "esaLc = imageCollection.filterBounds(aoi).first().clip(aoi)\n",
    "\n",
    "stratifiedSamples = esaLc.stratifiedSample(**{\n",
    "    \"numPoints\": 5,\n",
    "    \"region\": aoi,\n",
    "    \"scale\": 100, \n",
    "    \"seed\": 42, \n",
    "    \"tileScale\": 4, \n",
    "    \"geometries\": True\n",
    "}).map(h.set_id)"
   ]
  },
  {
   "cell_type": "markdown",
   "id": "688c2ded-544e-43fe-ad12-6f01be75ccad",
   "metadata": {},
   "source": [
    "### 4 - Display in map\n",
    "\n",
    "**Execute only**"
   ]
  },
  {
   "cell_type": "code",
   "execution_count": null,
   "id": "3ba8c094-dc7c-4020-967f-b12031403966",
   "metadata": {
    "tags": []
   },
   "outputs": [],
   "source": [
    "# intialize Map\n",
    "Map = SepalMap(['HYBRID'])\n",
    "Map.zoom_ee_object(aoi.geometry())\n",
    "\n",
    "# add layers\n",
    "Map.addLayer(ee.Image().byte().paint(featureCollection=aoi,color=1,width=3), {\"palette\": \"blue\"}, 'Area of interest')\n",
    "Map.addLayer(esaLc, False, 'ESA Worldcover 2020')\n",
    "Map.addLayer(stratifiedSamples.draw(color=\"black\", pointRadius=2), {}, 'Stratified Samples per class from ESA LC')\n",
    "Map.addLayer(ee.Image().byte().paint(featureCollection=grid,color=1,width=3), {\"palette\": \"black\"}, 'Grid')\n",
    "Map.addLayer(randomInCell.draw(color=\"purple\", pointRadius=2), {}, '1 Center Sample per gridcell (Systematic)')\n",
    "Map.addLayer(centerInCell.draw(color=\"white\", pointRadius=2), {}, '1 Random Sample per gridcell (Systematic random)')\n",
    "#\n",
    "Map"
   ]
  },
  {
   "cell_type": "markdown",
   "id": "bfe76c73-bd41-4f0c-8ae5-153a7d020912",
   "metadata": {},
   "source": [
    "### 5 - Add auxillary data from global datasets\n",
    "\n",
    "**Execute only**"
   ]
  },
  {
   "cell_type": "code",
   "execution_count": null,
   "id": "8d77ca0d-0685-48d0-84ca-82e719b33615",
   "metadata": {},
   "outputs": [],
   "source": [
    "point_id = 'point_id'\n",
    "point_with_global_products = h.sample_global_products(centerInCell, point_id)\n",
    "point_with_global_products"
   ]
  },
  {
   "cell_type": "code",
   "execution_count": null,
   "id": "d1ed6f00-517b-490d-a1b6-3632f2eb6262",
   "metadata": {},
   "outputs": [],
   "source": []
  }
 ],
 "metadata": {
  "kernelspec": {
   "display_name": "Python 3",
   "language": "python",
   "name": "python3"
  },
  "language_info": {
   "codemirror_mode": {
    "name": "ipython",
    "version": 3
   },
   "file_extension": ".py",
   "mimetype": "text/x-python",
   "name": "python",
   "nbconvert_exporter": "python",
   "pygments_lexer": "ipython3",
   "version": "3.8.10"
  }
 },
 "nbformat": 4,
 "nbformat_minor": 5
}
